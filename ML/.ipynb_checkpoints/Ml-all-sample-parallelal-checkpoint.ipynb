{
 "cells": [
  {
   "cell_type": "code",
   "execution_count": 3,
   "id": "3329b9e0",
   "metadata": {},
   "outputs": [],
   "source": [
    "import numpy as np\n",
    "import pandas as pd\n",
    "import glob\n",
    "from astropy.table import Table\n",
    "from sklearn.decomposition import PCA\n",
    "from sklearn.model_selection import train_test_split\n",
    "from sklearn.metrics import silhouette_score\n",
    "from sklearn.model_selection import ParameterGrid\n",
    "from sklearn.cluster import KMeans\n",
    "from sklearn.preprocessing import StandardScaler\n",
    "import hdbscan\n",
    "import matplotlib.pyplot as plt\n",
    "from itertools import combinations\n",
    "import umap\n",
    "from joblib import Parallel, delayed\n",
    "import seaborn as sns; sns.set()\n",
    "sns.set_theme(style=\"ticks\")"
   ]
  },
  {
   "cell_type": "code",
   "execution_count": null,
   "id": "f802e270",
   "metadata": {},
   "outputs": [],
   "source": [
    "data = Table.read(\"../Lomeli-data/catalog_all_bands_all_fovs_all_sources_106_rband.dat\", format='ascii')"
   ]
  },
  {
   "cell_type": "code",
   "execution_count": null,
   "id": "6cc8813d",
   "metadata": {},
   "outputs": [],
   "source": [
    "data"
   ]
  },
  {
   "cell_type": "code",
   "execution_count": null,
   "id": "3d3ced8e",
   "metadata": {},
   "outputs": [],
   "source": [
    "combined_df = data.to_pandas()"
   ]
  },
  {
   "cell_type": "code",
   "execution_count": null,
   "id": "e10aea28",
   "metadata": {},
   "outputs": [],
   "source": [
    "for columns in combined_df.columns:\n",
    "    print(columns)"
   ]
  },
  {
   "cell_type": "code",
   "execution_count": null,
   "id": "6c342598",
   "metadata": {},
   "outputs": [],
   "source": [
    "m_x =  (combined_df[\"r\"] >= 13) & (combined_df[\"r\"] <= 22)\n",
    "m_err = (combined_df[\"rerr\"] <= 0.2) & (combined_df[\"gerr\"] <= 0.2) & \\\n",
    "        (combined_df[\"ierr\"] <= 0.2) & (combined_df[\"uerr\"] <= 0.2) & \\\n",
    "        (combined_df[\"F378err\"] <= 0.2) & (combined_df[\"F395err\"] <= 0.2) & \\\n",
    "        (combined_df[\"F410err\"] <= 0.2) & (combined_df[\"F430err\"] <= 0.2) & \\\n",
    "        (combined_df[\"F515err\"] <= 0.2) & (combined_df[\"F660err\"] <= 0.2) & \\\n",
    "        (combined_df[\"F861err\"] <= 0.2) & (combined_df[\"zerr\"] <= 0.2)\n",
    "\n",
    "flags = (combined_df[\"flags_r\"] == 0) & (combined_df[\"flags_i\"] == 0)\n",
    "\n",
    "mask = m_x & m_err & flags\n",
    "\n",
    "df_cleanErr = combined_df[mask]\n",
    "len(df_cleanErr)"
   ]
  },
  {
   "cell_type": "code",
   "execution_count": null,
   "id": "f9a9c267",
   "metadata": {},
   "outputs": [],
   "source": [
    "#Selecting columns\n",
    "columns = [\"r\",\n",
    "\"g\",\n",
    "\"i\",\n",
    "\"u\",\n",
    "\"z\",\n",
    "\"F378\",\n",
    "\"F395\",\n",
    "\"F410\",\n",
    "\"F430\",\n",
    "\"F515\",\n",
    "\"F660\",\n",
    "\"F861\"]\n"
   ]
  },
  {
   "cell_type": "code",
   "execution_count": null,
   "id": "0796d063",
   "metadata": {},
   "outputs": [],
   "source": [
    "df_mag = df_cleanErr[columns]\n",
    "df_mag"
   ]
  },
  {
   "cell_type": "code",
   "execution_count": null,
   "id": "a24a00f4",
   "metadata": {},
   "outputs": [],
   "source": [
    "# Generate all combinations of magnitude columns\n",
    "color_index_pairs = list(combinations(df_mag, 2))\n",
    "len(color_index_pairs)"
   ]
  },
  {
   "cell_type": "code",
   "execution_count": null,
   "id": "2d787443",
   "metadata": {},
   "outputs": [],
   "source": [
    "def calculate_earnings(df, index_pairs):\n",
    "    for index_pair in index_pairs:\n",
    "        color_index_name = f\"{index_pair[0]} - {index_pair[1]}\"\n",
    "        df.loc[:, color_index_name] = df[index_pair[0]] - df[index_pair[1]]\n",
    "    return df\n"
   ]
  },
  {
   "cell_type": "code",
   "execution_count": null,
   "id": "70c41a1c",
   "metadata": {},
   "outputs": [],
   "source": [
    "df_colors_mag = calculate_earnings(df_mag, color_index_pairs)"
   ]
  },
  {
   "cell_type": "code",
   "execution_count": null,
   "id": "3d0d56e4",
   "metadata": {},
   "outputs": [],
   "source": [
    "df_colors_mag"
   ]
  },
  {
   "cell_type": "code",
   "execution_count": null,
   "id": "394ce77b",
   "metadata": {},
   "outputs": [],
   "source": [
    "# Drop magniytudes\n",
    "df_colors = df_colors_mag.drop(columns=columns)"
   ]
  },
  {
   "cell_type": "code",
   "execution_count": null,
   "id": "f93ac840",
   "metadata": {},
   "outputs": [],
   "source": [
    "df_colors"
   ]
  },
  {
   "cell_type": "markdown",
   "id": "6157032e",
   "metadata": {},
   "source": [
    "# Umap"
   ]
  },
  {
   "cell_type": "code",
   "execution_count": null,
   "id": "643c495d",
   "metadata": {},
   "outputs": [],
   "source": [
    "# Standarized the data\n",
    "X_stand = StandardScaler().fit_transform(df_colors)"
   ]
  },
  {
   "cell_type": "markdown",
   "id": "15dd272e",
   "metadata": {},
   "source": [
    "\n",
    "Try cross-validation\n",
    "\n",
    "To perform cross-validation for choosing the optimal number of components in UMAP.\n"
   ]
  },
  {
   "cell_type": "code",
   "execution_count": 39,
   "id": "f03d21f0",
   "metadata": {},
   "outputs": [],
   "source": [
    "# Split data into training and validation sets\n",
    "X_train, X_val = train_test_split(X_stand, test_size=0.2, random_state=42)"
   ]
  },
  {
   "cell_type": "code",
   "execution_count": 40,
   "id": "64cbf40b",
   "metadata": {},
   "outputs": [],
   "source": [
    "# Define a range of number of components to try\n",
    "num_components_range = [2, 3, 4, 5, 10, 20, 50]\n",
    "n_neighbors_range = [5, 10, 20, 50, 100]\n",
    "\n",
    "best_num_components = None\n",
    "best_n_neighbors = None\n",
    "best_silhouette_score = -1  # Initialize with a low value"
   ]
  },
  {
   "cell_type": "code",
   "execution_count": null,
   "id": "9c42f4b7",
   "metadata": {},
   "outputs": [
    {
     "name": "stdout",
     "output_type": "stream",
     "text": [
      "Number of components: 2, Number of neighbors: 5, Silhouette Score: 0.437427818775177\n",
      "Number of components: 2, Number of neighbors: 10, Silhouette Score: 0.4708039164543152\n",
      "Number of components: 2, Number of neighbors: 20, Silhouette Score: 0.5006764531135559\n",
      "Number of components: 2, Number of neighbors: 50, Silhouette Score: 0.5226908922195435\n",
      "Number of components: 2, Number of neighbors: 100, Silhouette Score: 0.5398621559143066\n"
     ]
    }
   ],
   "source": [
    "# Loop over different numbers of components and neighbors\n",
    "for num_components in num_components_range:\n",
    "    for n_neighbors in n_neighbors_range:\n",
    "        # Fit UMAP model\n",
    "        reducer_ = umap.UMAP(n_neighbors=n_neighbors, n_components=num_components, random_state=42)\n",
    "        X_train_trans = reducer_.fit_transform(X_train)\n",
    "\n",
    "        # Cluster the transformed data using KMeans\n",
    "        kmeans = KMeans(n_clusters=num_components, random_state=42)\n",
    "        labels = kmeans.fit_predict(X_train_trans)\n",
    "\n",
    "        # Evaluate performance on validation set using Silhouette Score\n",
    "        silhouette = silhouette_score(X_train_trans, labels, random_state=42)\n",
    "        print(f\"Number of components: {num_components}, Number of neighbors: {n_neighbors}, Silhouette Score: {silhouette}\")\n",
    "\n",
    "        # Update best parameters if necessary\n",
    "        if silhouette > best_silhouette_score:\n",
    "            best_silhouette_score = silhouette\n",
    "            best_num_components = num_components\n",
    "            best_n_neighbors = n_neighbors\n",
    "            best_labels = labels"
   ]
  },
  {
   "cell_type": "code",
   "execution_count": null,
   "id": "0f81713f",
   "metadata": {},
   "outputs": [],
   "source": []
  }
 ],
 "metadata": {
  "kernelspec": {
   "display_name": "Python 3 (ipykernel)",
   "language": "python",
   "name": "python3"
  },
  "language_info": {
   "codemirror_mode": {
    "name": "ipython",
    "version": 3
   },
   "file_extension": ".py",
   "mimetype": "text/x-python",
   "name": "python",
   "nbconvert_exporter": "python",
   "pygments_lexer": "ipython3",
   "version": "3.9.7"
  }
 },
 "nbformat": 4,
 "nbformat_minor": 5
}
